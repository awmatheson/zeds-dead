{
 "cells": [
  {
   "cell_type": "markdown",
   "metadata": {},
   "source": [
    "# Boston COVID19\n",
    "> Modeling the potential spread of COVID19 in the greater boston area.\n",
    "\n",
    "- toc: true \n",
    "- badges: true\n",
    "- comments: true\n",
    "- categories: [jupyter]\n",
    "- image: images/chart-preview.png"
   ]
  },
  {
   "cell_type": "markdown",
   "metadata": {},
   "source": [
    "## Context\n",
    "\n",
    "Recently Boston became a COVID19 hotspot due to an outbreak occurring at biogen. This happens to be a company located approximately 2 blocks from my apartment. We share restaurants, transit hubs and more. Since this hits a little close to home, I wanted to take a look at the suspected growth rate for the total possible number of infected people in the boston area.\n",
    "\n",
    "To do this, we will use the SIR model and we can also create a forecasting model using prophet to track the predicted vs. actual. "
   ]
  },
  {
   "cell_type": "code",
   "execution_count": 1,
   "metadata": {},
   "outputs": [],
   "source": [
    "#collapse-hide\n",
    "import pandas as pd\n",
    "import numpy as np\n",
    "import matplotlib.pyplot as plt\n",
    "import seaborn as sns\n",
    "import matplotlib.dates as mdates\n",
    "from sklearn.cluster import KMeans\n",
    "import datetime\n",
    "from datetime import date, timedelta\n",
    "from fbprophet import Prophet\n",
    "from datetime import datetime\n",
    "import requests\n",
    "from io import StringIO"
   ]
  },
  {
   "cell_type": "code",
   "execution_count": 8,
   "metadata": {},
   "outputs": [],
   "source": [
    "bytes_csv = str(requests.get(\"https://raw.githubusercontent.com/CSSEGISandData/COVID-19/master/csse_covid_19_data/csse_covid_19_time_series/time_series_19-covid-Confirmed.csv\", allow_redirects=True).content,'utf-8')\n",
    "data = StringIO(bytes_csv) \n",
    "df=pd.read_csv(data, parse_dates=True)\n",
    "df.dropna(inplace=True)\n",
    "df = df[df['Province/State'].str.contains('Massachusetts')].iloc[:,4:].copy().T\n",
    "df.columns = ['Confirmed']"
   ]
  },
  {
   "cell_type": "code",
   "execution_count": 9,
   "metadata": {},
   "outputs": [],
   "source": [
    "df['Date'] = df.index\n",
    "df['Date'] = df['Date'].apply(lambda x: datetime.strptime(x, '%m/%d/%y'))\n",
    "df.set_index('Date',inplace=True)"
   ]
  },
  {
   "cell_type": "code",
   "execution_count": 5,
   "metadata": {},
   "outputs": [
    {
     "data": {
      "text/html": [
       "<div>\n",
       "<style scoped>\n",
       "    .dataframe tbody tr th:only-of-type {\n",
       "        vertical-align: middle;\n",
       "    }\n",
       "\n",
       "    .dataframe tbody tr th {\n",
       "        vertical-align: top;\n",
       "    }\n",
       "\n",
       "    .dataframe thead th {\n",
       "        text-align: right;\n",
       "    }\n",
       "</style>\n",
       "<table border=\"1\" class=\"dataframe\">\n",
       "  <thead>\n",
       "    <tr style=\"text-align: right;\">\n",
       "      <th></th>\n",
       "      <th>Confirmed</th>\n",
       "    </tr>\n",
       "    <tr>\n",
       "      <th>Date</th>\n",
       "      <th></th>\n",
       "    </tr>\n",
       "  </thead>\n",
       "  <tbody>\n",
       "    <tr>\n",
       "      <td>2020-03-08</td>\n",
       "      <td>0</td>\n",
       "    </tr>\n",
       "    <tr>\n",
       "      <td>2020-03-09</td>\n",
       "      <td>0</td>\n",
       "    </tr>\n",
       "    <tr>\n",
       "      <td>2020-03-10</td>\n",
       "      <td>92</td>\n",
       "    </tr>\n",
       "    <tr>\n",
       "      <td>2020-03-11</td>\n",
       "      <td>95</td>\n",
       "    </tr>\n",
       "    <tr>\n",
       "      <td>2020-03-12</td>\n",
       "      <td>108</td>\n",
       "    </tr>\n",
       "  </tbody>\n",
       "</table>\n",
       "</div>"
      ],
      "text/plain": [
       "            Confirmed\n",
       "Date                 \n",
       "2020-03-08          0\n",
       "2020-03-09          0\n",
       "2020-03-10         92\n",
       "2020-03-11         95\n",
       "2020-03-12        108"
      ]
     },
     "execution_count": 5,
     "metadata": {},
     "output_type": "execute_result"
    }
   ],
   "source": [
    "df.tail()"
   ]
  },
  {
   "cell_type": "markdown",
   "metadata": {},
   "source": [
    "## Modeling the growth of a region\n",
    "\n",
    "Since we don't have a lot of data for Boston, we can use SIR as a model to estimate the growth in the area.\n",
    "\n",
    "We will make some assumptions around the population because it is most likely feasible that only certain mobile areas of the greater boston population would be affected. In addition, since schools have closed and work from home is already mandated, we can probably further reduce our contact rate to the lower of the range shown for the coronavirus."
   ]
  },
  {
   "cell_type": "code",
   "execution_count": 10,
   "metadata": {},
   "outputs": [],
   "source": [
    "population = 4875390\n",
    "saturation_coeff = .6 # estimated possible population saturation\n",
    "density_coeff=.5 # 1/2 of wuhan density"
   ]
  },
  {
   "cell_type": "markdown",
   "metadata": {},
   "source": [
    "# Using the SIR model to determine growth\n",
    "\n",
    "* recovery rate, gamma = 1/5 - 1 person takes on average 5 days to pass through the contagious stage [1](https://www.cdc.gov/coronavirus/2019-ncov/hcp/clinical-guidance-management-patients.html)\n",
    "* contact rate, beta = .475 - This is difficult because it varies over time [2](https://www.sciencedirect.com/science/article/pii/S246804272030004X). This complicates things, since the early contact rate could be up to 10, but will decrease as restrictions are placed on the population, people self-isolate etc. For this estimation we will assume a contact rate of 0.5 after fitting the SIR to the Italy EDA I previously completed [here](https://github.com/awmatheson/COVID-19/blob/master/Italy_EDA.ipynb). \n",
    "* Approximately 15% of cases require hospitalization based on the China outbreak and 5% require ICU treatment [3](https://www.statnews.com/2020/03/10/simple-math-alarming-answers-covid-19/)\n",
    "* Massachusetts has 15,193 beds available and approximately operate at 50% capacity - leaving ~7597 beds. [4](https://www.ahd.com/states/hospital_MA.html)\n",
    "* population adjusted is based on the estimation that sparser populated areas do not have as high of transmission rates and can be fairly isolated from the rest of the population.\n"
   ]
  },
  {
   "cell_type": "code",
   "execution_count": 11,
   "metadata": {},
   "outputs": [
    {
     "data": {
      "image/png": "[encoded data removed]",
      "text/plain": [
       "<Figure size 1008x720 with 1 Axes>"
      ]
     },
     "metadata": {},
     "output_type": "display_data"
    },
    {
     "name": "stdout",
     "output_type": "stream",
     "text": [
      "targeted population in this model: 1462617.0\n",
      "critical infected population at inflection point: 314103.19593972364\n",
      "critical hospitalized population: 47115.47939095854\n"
     ]
    }
   ],
   "source": [
    "#collapse-show\n",
    "import numpy as np\n",
    "from scipy.integrate import odeint\n",
    "import matplotlib.pyplot as plt\n",
    "\n",
    "# Total population adjusted for assumptions listed above\n",
    "N = population * saturation_coeff * density_coeff\n",
    "hosp_rate= 0.15\n",
    "# Initial number of infected and recovered individuals, I0 and R0.\n",
    "I0, R0 = 91, 1\n",
    "# Everyone else, S0, is susceptible to infection initially.\n",
    "S0 = N - I0 - R0\n",
    "# Contact rate, beta, and mean recovery rate, gamma, (in 1/days).\n",
    "beta, gamma = 0.475, 1/5 \n",
    "# A grid of time points (in days)\n",
    "t = np.linspace(0, 160, 160)\n",
    "\n",
    "# The SIR model differential equations.\n",
    "def deriv(y, t, N, beta, gamma):\n",
    "    S, I, R = y\n",
    "    dSdt = -beta * S * I / N\n",
    "    dIdt = beta * S * I / N - gamma * I\n",
    "    dRdt = gamma * I\n",
    "    return dSdt, dIdt, dRdt\n",
    "\n",
    "# Initial conditions vector\n",
    "y0 = S0, I0, R0\n",
    "# Integrate the SIR equations over the time grid, t.\n",
    "ret = odeint(deriv, y0, t, args=(N, beta, gamma))\n",
    "S, I, R = ret.T\n",
    "H = I*hosp_rate\n",
    "beds = np.array([7597 for i in range(len(H))])\n",
    "\n",
    "# Plot the data on three separate curves for S(t), I(t) and R(t)\n",
    "fig = plt.figure(facecolor='w', figsize= (14,10))\n",
    "ax = fig.add_subplot(111, axisbelow=True)\n",
    "\n",
    "ax.plot(t, S/100000, 'b', alpha=0.5, lw=2, label='Susceptible')\n",
    "ax.plot(t, I/100000, 'r', alpha=0.5, lw=2, label='Infected')\n",
    "ax.plot(t, R/100000, 'g', alpha=0.5, lw=2, label='Recovered with immunity')\n",
    "ax.plot(t, H/100000, 'y', alpha=0.5, lw=2, label='Hospitalized')\n",
    "ax.plot(t, beds/100000, 'm', alpha=0.5, lw=2, label='Bed Capacity')\n",
    "ax.set_xlabel('Time /days')\n",
    "ax.set_ylabel('Number (100000s)')\n",
    "ax.set_ylim(0,12)\n",
    "ax.set_xlim(0,60)\n",
    "ax.yaxis.set_tick_params(length=0)\n",
    "ax.xaxis.set_tick_params(length=0)\n",
    "ax.grid(b=True, which='major', c='w', lw=2, ls='-')\n",
    "legend = ax.legend()\n",
    "legend.get_frame().set_alpha(0.5)\n",
    "for spine in ('top', 'right', 'bottom', 'left'):\n",
    "    ax.spines[spine].set_visible(False)\n",
    "plt.show()\n",
    "print(\"targeted population in this model: {}\".format(N))\n",
    "print(\"critical infected population at inflection point: {}\".format(I.max()))\n",
    "print(\"critical hospitalized population: {}\".format(I.max()*hosp_rate))"
   ]
  },
  {
   "cell_type": "markdown",
   "metadata": {},
   "source": [
    "We can observe that with this SIR model we could see approximately 314,000 infected people and 47,115 people requiring hospitalization. We will run out of bed capacity eventually, which is the situation that happened in Italy. Without the ability to build massize isolated treatment centers like china did, there are not many options for creating hospitals that will have the necessary treatment capabilities for the virus.\n",
    "\n",
    "Lets zoom in on the capacity below."
   ]
  },
  {
   "cell_type": "code",
   "execution_count": null,
   "metadata": {},
   "outputs": [],
   "source": [
    "# Zooming in\n",
    "fig = plt.figure(facecolor='w', figsize= (14,10))\n",
    "ax = fig.add_subplot(111, axisbelow=True)\n",
    "\n",
    "ax.plot(t, H/1000, 'y', alpha=0.5, lw=2, label='Hospitalized')\n",
    "ax.plot(t, beds/1000, 'm', alpha=0.5, lw=2, label='Bed Capacity')\n",
    "ax.text(t[23], 8, \"Hospital Saturation\", ha='center')\n",
    "ax.set_xlabel('Time /days')\n",
    "ax.set_ylabel('Number (1000s)')\n",
    "ax.set_ylim(0,70)\n",
    "ax.set_xlim(0,60)\n",
    "ax.yaxis.set_tick_params(length=0)\n",
    "ax.xaxis.set_tick_params(length=0)\n",
    "ax.grid(b=True, which='major', c='w', lw=2, ls='-')\n",
    "legend = ax.legend()\n",
    "legend.get_frame().set_alpha(0.5)\n",
    "for spine in ('top', 'right', 'bottom', 'left'):\n",
    "    ax.spines[spine].set_visible(False)\n",
    "plt.show()"
   ]
  },
  {
   "cell_type": "markdown",
   "metadata": {},
   "source": [
    "## Conclusion\n",
    "\n",
    "The visualization above shows that approximately 23-25 days after the initial group of patients tested positive, we could reach hospital bed saturation for Massachusetts based off of the greater boston population (adjusted) being infected by the virus. \n",
    "\n",
    "This could cause a change in the contact rate that we assumed for our model and increase the infected patients. Based on this analysis, we could see deaths into the 10s of thousands in the next few months depending on the demographics of the population infected. "
   ]
  },
  {
   "cell_type": "markdown",
   "metadata": {},
   "source": [
    "References:\n",
    "\n",
    "https://scipython.com/book/chapter-8-scipy/additional-examples/the-sir-epidemic-model/\n",
    "https://www.sciencedirect.com/science/article/pii/S246804272030004X\n",
    "https://www.bphc.org/healthdata/other-reports/Documents/Healthcare%20Access%20Report%20FINAL.pdf\n",
    "https://www.cdc.gov/coronavirus/2019-ncov/hcp/clinical-guidance-management-patients.html"
   ]
  },
  {
   "cell_type": "code",
   "execution_count": null,
   "metadata": {},
   "outputs": [],
   "source": []
  }
 ],
 "metadata": {
  "kernelspec": {
   "display_name": "Python 3",
   "language": "python",
   "name": "python3"
  },
  "language_info": {
   "codemirror_mode": {
    "name": "ipython",
    "version": 3
   },
   "file_extension": ".py",
   "mimetype": "text/x-python",
   "name": "python",
   "nbconvert_exporter": "python",
   "pygments_lexer": "ipython3",
   "version": "3.6.8"
  }
 },
 "nbformat": 4,
 "nbformat_minor": 2
}
